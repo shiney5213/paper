{
 "cells": [
  {
   "cell_type": "markdown",
   "metadata": {},
   "source": [
    "### 5.CNN_finetuning_model\n",
    "#### 1) model summary"
   ]
  },
  {
   "cell_type": "code",
   "execution_count": 10,
   "metadata": {},
   "outputs": [
    {
     "name": "stdout",
     "output_type": "stream",
     "text": [
      "Requirement already satisfied: graphviz in c:\\users\\82105\\anaconda3\\envs\\r-cnn\\lib\\site-packages (0.20.1)\n"
     ]
    }
   ],
   "source": [
    "!pip install graphviz"
   ]
  },
  {
   "cell_type": "code",
   "execution_count": 2,
   "metadata": {},
   "outputs": [],
   "source": [
    "import os\n",
    "import torch\n",
    "from torchsummary import summary\n",
    "import torchvision.models as models\n",
    "import torch.nn as nn\n",
    "from torchinfo import summary as summary2\n",
    "from torchviz import make_dot\n",
    "from torch.autograd import Variable\n",
    "\n"
   ]
  },
  {
   "cell_type": "code",
   "execution_count": 6,
   "metadata": {},
   "outputs": [
    {
     "name": "stdout",
     "output_type": "stream",
     "text": [
      "device cuda\n"
     ]
    },
    {
     "name": "stderr",
     "output_type": "stream",
     "text": [
      "c:\\Users\\82105\\anaconda3\\envs\\R-CNN\\lib\\site-packages\\torchvision\\models\\_utils.py:209: UserWarning: The parameter 'pretrained' is deprecated since 0.13 and may be removed in the future, please use 'weights' instead.\n",
      "  f\"The parameter '{pretrained_param}' is deprecated since 0.13 and may be removed in the future, \"\n",
      "c:\\Users\\82105\\anaconda3\\envs\\R-CNN\\lib\\site-packages\\torchvision\\models\\_utils.py:223: UserWarning: Arguments other than a weight enum or `None` for 'weights' are deprecated since 0.13 and may be removed in the future. The current behavior is equivalent to passing `weights=AlexNet_Weights.IMAGENET1K_V1`. You can also use `weights=AlexNet_Weights.DEFAULT` to get the most up-to-date weights.\n",
      "  warnings.warn(msg)\n"
     ]
    },
    {
     "name": "stdout",
     "output_type": "stream",
     "text": [
      "num_features 4096\n"
     ]
    }
   ],
   "source": [
    "# model 구조 : AlexNet 뒤에 이진 분류를 위한 layer 추가\n",
    "device = \"cuda\" if torch.cuda.is_available() else \"cpu\"\n",
    "print('device', device)\n",
    "\n",
    "model = models.alexnet(pretrained=True)\n",
    "num_features = model.classifier[6].in_features\n",
    "print('num_features', num_features)\n",
    "model.classifier[6] = nn.Linear(num_features, 2)\n",
    "model = model.to(device)\n"
   ]
  },
  {
   "cell_type": "code",
   "execution_count": 33,
   "metadata": {},
   "outputs": [
    {
     "data": {
      "text/plain": [
       "<All keys matched successfully>"
      ]
     },
     "execution_count": 33,
     "metadata": {},
     "output_type": "execute_result"
    }
   ],
   "source": [
    "# train된 weight\n",
    "chechkpoint_path = '../R-CNN/models/alexnet_car.pth'\n",
    "checkpoint = torch.load(chechkpoint_path, map_location= device)\n",
    "model.load_state_dict(checkpoint)\n"
   ]
  },
  {
   "cell_type": "code",
   "execution_count": 34,
   "metadata": {},
   "outputs": [
    {
     "data": {
      "text/plain": [
       "torch.Size([64, 3, 11, 11])"
      ]
     },
     "execution_count": 34,
     "metadata": {},
     "output_type": "execute_result"
    }
   ],
   "source": [
    "input_parameter = next(model.parameters())\n",
    "input_parameter.size()\n"
   ]
  },
  {
   "cell_type": "code",
   "execution_count": 35,
   "metadata": {},
   "outputs": [
    {
     "name": "stdout",
     "output_type": "stream",
     "text": [
      "----------------------------------------------------------------\n",
      "        Layer (type)               Output Shape         Param #\n",
      "================================================================\n",
      "            Conv2d-1           [-1, 64, 63, 63]          23,296\n",
      "              ReLU-2           [-1, 64, 63, 63]               0\n",
      "         MaxPool2d-3           [-1, 64, 31, 31]               0\n",
      "            Conv2d-4          [-1, 192, 31, 31]         307,392\n",
      "              ReLU-5          [-1, 192, 31, 31]               0\n",
      "         MaxPool2d-6          [-1, 192, 15, 15]               0\n",
      "            Conv2d-7          [-1, 384, 15, 15]         663,936\n",
      "              ReLU-8          [-1, 384, 15, 15]               0\n",
      "            Conv2d-9          [-1, 256, 15, 15]         884,992\n",
      "             ReLU-10          [-1, 256, 15, 15]               0\n",
      "           Conv2d-11          [-1, 256, 15, 15]         590,080\n",
      "             ReLU-12          [-1, 256, 15, 15]               0\n",
      "        MaxPool2d-13            [-1, 256, 7, 7]               0\n",
      "AdaptiveAvgPool2d-14            [-1, 256, 6, 6]               0\n",
      "          Dropout-15                 [-1, 9216]               0\n",
      "           Linear-16                 [-1, 4096]      37,752,832\n",
      "             ReLU-17                 [-1, 4096]               0\n",
      "          Dropout-18                 [-1, 4096]               0\n",
      "           Linear-19                 [-1, 4096]      16,781,312\n",
      "             ReLU-20                 [-1, 4096]               0\n",
      "           Linear-21                    [-1, 2]           8,194\n",
      "================================================================\n",
      "Total params: 57,012,034\n",
      "Trainable params: 57,012,034\n",
      "Non-trainable params: 0\n",
      "----------------------------------------------------------------\n",
      "Input size (MB): 0.75\n",
      "Forward/backward pass size (MB): 10.96\n",
      "Params size (MB): 217.48\n",
      "Estimated Total Size (MB): 229.19\n",
      "----------------------------------------------------------------\n"
     ]
    }
   ],
   "source": [
    "summary(model, (3, 256,256))\n"
   ]
  },
  {
   "cell_type": "code",
   "execution_count": 36,
   "metadata": {},
   "outputs": [
    {
     "data": {
      "text/plain": [
       "==========================================================================================\n",
       "Layer (type:depth-idx)                   Output Shape              Param #\n",
       "==========================================================================================\n",
       "AlexNet                                  [64, 2]                   --\n",
       "├─Sequential: 1-1                        [64, 256, 7, 7]           --\n",
       "│    └─Conv2d: 2-1                       [64, 64, 63, 63]          23,296\n",
       "│    └─ReLU: 2-2                         [64, 64, 63, 63]          --\n",
       "│    └─MaxPool2d: 2-3                    [64, 64, 31, 31]          --\n",
       "│    └─Conv2d: 2-4                       [64, 192, 31, 31]         307,392\n",
       "│    └─ReLU: 2-5                         [64, 192, 31, 31]         --\n",
       "│    └─MaxPool2d: 2-6                    [64, 192, 15, 15]         --\n",
       "│    └─Conv2d: 2-7                       [64, 384, 15, 15]         663,936\n",
       "│    └─ReLU: 2-8                         [64, 384, 15, 15]         --\n",
       "│    └─Conv2d: 2-9                       [64, 256, 15, 15]         884,992\n",
       "│    └─ReLU: 2-10                        [64, 256, 15, 15]         --\n",
       "│    └─Conv2d: 2-11                      [64, 256, 15, 15]         590,080\n",
       "│    └─ReLU: 2-12                        [64, 256, 15, 15]         --\n",
       "│    └─MaxPool2d: 2-13                   [64, 256, 7, 7]           --\n",
       "├─AdaptiveAvgPool2d: 1-2                 [64, 256, 6, 6]           --\n",
       "├─Sequential: 1-3                        [64, 2]                   --\n",
       "│    └─Dropout: 2-14                     [64, 9216]                --\n",
       "│    └─Linear: 2-15                      [64, 4096]                37,752,832\n",
       "│    └─ReLU: 2-16                        [64, 4096]                --\n",
       "│    └─Dropout: 2-17                     [64, 4096]                --\n",
       "│    └─Linear: 2-18                      [64, 4096]                16,781,312\n",
       "│    └─ReLU: 2-19                        [64, 4096]                --\n",
       "│    └─Linear: 2-20                      [64, 2]                   8,194\n",
       "==========================================================================================\n",
       "Total params: 57,012,034\n",
       "Trainable params: 57,012,034\n",
       "Non-trainable params: 0\n",
       "Total mult-adds (G): 59.12\n",
       "==========================================================================================\n",
       "Input size (MB): 50.33\n",
       "Forward/backward pass size (MB): 331.94\n",
       "Params size (MB): 228.05\n",
       "Estimated Total Size (MB): 610.32\n",
       "=========================================================================================="
      ]
     },
     "execution_count": 36,
     "metadata": {},
     "output_type": "execute_result"
    }
   ],
   "source": [
    "# input : [batch, channels, width, height]\n",
    "summary2(model, (64, 3, 256,256))\n"
   ]
  },
  {
   "cell_type": "markdown",
   "metadata": {},
   "source": [
    "#### 2) model result"
   ]
  },
  {
   "cell_type": "code",
   "execution_count": 14,
   "metadata": {},
   "outputs": [],
   "source": [
    "import numpy as np\n",
    "import matplotlib.pyplot as plt"
   ]
  },
  {
   "cell_type": "code",
   "execution_count": 24,
   "metadata": {},
   "outputs": [
    {
     "name": "stdout",
     "output_type": "stream",
     "text": [
      "../R-CNN/models/alexnet_car_1.pt True\n"
     ]
    },
    {
     "ename": "KeyError",
     "evalue": "'loss'",
     "output_type": "error",
     "traceback": [
      "\u001b[1;31m---------------------------------------------------------------------------\u001b[0m",
      "\u001b[1;31mKeyError\u001b[0m                                  Traceback (most recent call last)",
      "\u001b[1;32m~\\AppData\\Local\\Temp\\ipykernel_2012\\835955595.py\u001b[0m in \u001b[0;36m<module>\u001b[1;34m\u001b[0m\n\u001b[0;32m     10\u001b[0m \u001b[1;33m\u001b[0m\u001b[0m\n\u001b[0;32m     11\u001b[0m     \u001b[0mcheckpoint\u001b[0m \u001b[1;33m=\u001b[0m \u001b[0mtorch\u001b[0m\u001b[1;33m.\u001b[0m\u001b[0mload\u001b[0m\u001b[1;33m(\u001b[0m\u001b[0mcheckpoint_path\u001b[0m\u001b[1;33m,\u001b[0m \u001b[0mmap_location\u001b[0m\u001b[1;33m=\u001b[0m \u001b[0mdevice\u001b[0m\u001b[1;33m)\u001b[0m\u001b[1;33m\u001b[0m\u001b[1;33m\u001b[0m\u001b[0m\n\u001b[1;32m---> 12\u001b[1;33m     \u001b[0mloss_list\u001b[0m\u001b[1;33m.\u001b[0m\u001b[0mappend\u001b[0m\u001b[1;33m(\u001b[0m\u001b[0mcheckpoint\u001b[0m\u001b[1;33m[\u001b[0m\u001b[1;34m'loss'\u001b[0m\u001b[1;33m]\u001b[0m\u001b[1;33m)\u001b[0m\u001b[1;33m\u001b[0m\u001b[1;33m\u001b[0m\u001b[0m\n\u001b[0m\u001b[0;32m     13\u001b[0m     \u001b[0maccuracy_list\u001b[0m\u001b[1;33m.\u001b[0m\u001b[0mappend\u001b[0m\u001b[1;33m(\u001b[0m\u001b[0mcheckpoint\u001b[0m\u001b[1;33m[\u001b[0m\u001b[1;34m'acc'\u001b[0m\u001b[1;33m]\u001b[0m\u001b[1;33m)\u001b[0m\u001b[1;33m\u001b[0m\u001b[1;33m\u001b[0m\u001b[0m\n\u001b[0;32m     14\u001b[0m     \u001b[1;32mbreak\u001b[0m\u001b[1;33m\u001b[0m\u001b[1;33m\u001b[0m\u001b[0m\n",
      "\u001b[1;31mKeyError\u001b[0m: 'loss'"
     ]
    }
   ],
   "source": [
    "accuracy_list = []\n",
    "loss_list = []\n",
    "\n",
    "models_path = '../R-CNN/models/'\n",
    "for i in range(0, 25):\n",
    "    \n",
    "    checkpoint_file = f'alexnet_car_{i+1}.pt'\n",
    "    checkpoint_path = os.path.join(models_path, checkpoint_file)\n",
    "    print(checkpoint_path, (os.path.isfile(checkpoint_path)))\n",
    "    \n",
    "    checkpoint = torch.load(checkpoint_path, map_location= device)\n",
    "    loss_list.append(checkpoint['loss'])\n",
    "    accuracy_list.append(checkpoint['acc'])\n",
    "    break\n",
    "    "
   ]
  },
  {
   "cell_type": "code",
   "execution_count": 26,
   "metadata": {},
   "outputs": [
    {
     "name": "stdout",
     "output_type": "stream",
     "text": [
      "0.1927502530569746\n",
      "0.3481172631443129\n",
      "tensor(0.9157, device='cuda:0', dtype=torch.float64)\n",
      "tensor(0.8714, device='cuda:0', dtype=torch.float64)\n"
     ]
    }
   ],
   "source": [
    "checkpoint.keys()\n",
    "print(checkpoint['train_loss'])\n",
    "print(checkpoint['val_loss'])\n",
    "\n",
    "print(checkpoint['train_acc'])\n",
    "\n",
    "print(checkpoint['val_acc'])\n"
   ]
  },
  {
   "cell_type": "code",
   "execution_count": 18,
   "metadata": {},
   "outputs": [
    {
     "name": "stdout",
     "output_type": "stream",
     "text": [
      "loss 25 0.3662235388465541\n",
      "acc 25 tensor(0.8676, device='cuda:0', dtype=torch.float64)\n"
     ]
    }
   ],
   "source": [
    "print('loss', len(loss_list), loss_list[0])\n",
    "print('acc', len(accuracy_list), accuracy_list[0])"
   ]
  },
  {
   "cell_type": "code",
   "execution_count": 20,
   "metadata": {},
   "outputs": [
    {
     "data": {
      "image/png": "[encoded data removed]",
      "text/plain": [
       "<Figure size 640x480 with 1 Axes>"
      ]
     },
     "metadata": {},
     "output_type": "display_data"
    }
   ],
   "source": [
    "x_len = np.arange(len(loss_list))\n",
    "# loss_list = loss_list.cpu()\n",
    "accuracy_list = [acc.cpu() for acc in accuracy_list]\n",
    "\n",
    "\n",
    "plt.plot(x_len, loss_list, marker='.', c='red', label=\"Validation-set Loss\")\n",
    "plt.plot(x_len, accuracy_list, marker='.', c='blue', label=\"Train-set Loss\")\n",
    "plt.legend(loc='upper right')\n",
    "plt.grid()\n",
    "plt.xlabel('epoch')\n",
    "plt.ylabel('loss')\n",
    "plt.show()"
   ]
  },
  {
   "cell_type": "code",
   "execution_count": null,
   "metadata": {},
   "outputs": [],
   "source": []
  }
 ],
 "metadata": {
  "kernelspec": {
   "display_name": "R-CNN",
   "language": "python",
   "name": "python3"
  },
  "language_info": {
   "codemirror_mode": {
    "name": "ipython",
    "version": 3
   },
   "file_extension": ".py",
   "mimetype": "text/x-python",
   "name": "python",
   "nbconvert_exporter": "python",
   "pygments_lexer": "ipython3",
   "version": "3.7.16"
  },
  "orig_nbformat": 4
 },
 "nbformat": 4,
 "nbformat_minor": 2
}
